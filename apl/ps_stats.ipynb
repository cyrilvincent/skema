{
 "cells": [
  {
   "cell_type": "code",
   "execution_count": 1,
   "id": "02ffea25-0dbf-4c6b-aec0-c301c3b9dd71",
   "metadata": {},
   "outputs": [
    {
     "name": "stdout",
     "output_type": "stream",
     "text": [
      "3.12.0 (tags/v3.12.0:0fb18b0, Oct  2 2023, 13:03:39) [MSC v.1935 64 bit (AMD64)]\n",
      "3.2.0.Dev\n",
      "postgresql://postgres:sa@localhost/icip\n"
     ]
    }
   ],
   "source": [
    "import pandas as pd\n",
    "import numpy as np\n",
    "import config\n",
    "import datetime\n",
    "import sys\n",
    "from sqlalchemy import text\n",
    "print(sys.version)\n",
    "print(config.version)\n",
    "print(config.connection_string)\n",
    "pd.set_option('display.max_columns', None)"
   ]
  },
  {
   "cell_type": "code",
   "execution_count": 2,
   "id": "c8b9b06d-8a18-4517-a315-e3a842c72ebc",
   "metadata": {},
   "outputs": [],
   "source": [
    "specialite=10\n",
    "year=21"
   ]
  },
  {
   "cell_type": "code",
   "execution_count": 3,
   "id": "8ee9634b-1f30-4e83-b5d7-18037501f132",
   "metadata": {},
   "outputs": [],
   "source": [
    "def get_ps(year, specialite):\n",
    "    sql=f\"\"\"\n",
    "select sp.specialite_id, s.label_long as label, ds.annee as year, ps.id as p_id, an.lon, an.lat from ps\n",
    "join tarif t on t.ps_id = ps.id\n",
    "join tarif_date_source tds on tds.tarif_id=t.id\n",
    "join date_source ds on ds.id=tds.date_source_id\n",
    "join cabinet c on t.cabinet_id=c.id\n",
    "join adresse_raw ar on c.adresse_raw_id=ar.id\n",
    "join adresse_norm an on ar.adresse_norm_id=an.id\n",
    "join specialite_profession sp on sp.profession_id=t.profession_id\n",
    "join specialite s on s.id=sp.specialite_id\n",
    "where sp.specialite_id={specialite}\n",
    "and ds.annee={year}\n",
    "\"\"\"\n",
    "    print(f\"Quering PS for year {year} and specialite {specialite}\")\n",
    "    return pd.read_sql(sql, config.connection_string).dropna()\n"
   ]
  },
  {
   "cell_type": "code",
   "execution_count": 4,
   "id": "8086ab67-de38-48c1-8d01-d2055893daeb",
   "metadata": {},
   "outputs": [],
   "source": [
    "def get_pa(year, specialite):\n",
    "    sql=f\"\"\"\n",
    "select sp.specialite_id, ds.annee as year, pa.id as p_id, an.lon, an.lat from personne_activite pa\n",
    "join personne_activite_diplome pad on pad.personne_activite_id=pa.id\n",
    "join diplome d on pad.diplome_id=d.id\n",
    "join profession_diplome pd on pd.diplome_id=d.id\n",
    "join profession p on pd.profession_id=p.id\n",
    "join specialite_profession sp on sp.profession_id=p.id\n",
    "join pa_adresse_norm_date_source pands on pands.personne_activite_id=pa.id\n",
    "join adresse_norm an on pands.adresse_norm_id=an.id\n",
    "join date_source ds on ds.id=pands.date_source_id\n",
    "where sp.specialite_id={specialite}\n",
    "and pa.code_mode_exercice='L'\n",
    "and ds.annee={year}\n",
    "\"\"\"\n",
    "    print(f\"Quering PA for year {year} and specialite {specialite}\")\n",
    "    return pd.read_sql(sql, config.connection_string).dropna()"
   ]
  },
  {
   "cell_type": "code",
   "execution_count": 5,
   "id": "4c69bdee-2ee9-4ec6-afb0-1ba3689b1c68",
   "metadata": {},
   "outputs": [],
   "source": [
    "def get_pa_outer_ps(year, specialite):\n",
    "    sql=f\"\"\"\n",
    "with ps2 as (\n",
    "    select ps.id, ps.key, an.lon, an.lat from ps\n",
    "    join tarif t on t.ps_id = ps.id\n",
    "    join tarif_date_source tds on tds.tarif_id=t.id\n",
    "    join date_source ds on ds.id=tds.date_source_id\n",
    "    join cabinet c on t.cabinet_id=c.id\n",
    "    join adresse_raw ar on c.adresse_raw_id=ar.id\n",
    "    join adresse_norm an on ar.adresse_norm_id=an.id\n",
    "    join specialite_profession sp on sp.profession_id=t.profession_id\n",
    "    --join specialite s on s.id=sp.specialite_id\n",
    "    where sp.specialite_id={specialite}\n",
    "    and ds.annee={year}\n",
    ")\n",
    "select sp.specialite_id, s.label_long as label, ds.annee as year, pa.id as p_id, coalesce(an.lon,ps2.lon) as lon, coalesce(an.lat,ps2.lat) as lat\n",
    "from personne_activite pa\n",
    "left outer join ps2 on ps2.key=pa.inpp\n",
    "join personne_activite_diplome pad on pad.personne_activite_id=pa.id\n",
    "join diplome d on pad.diplome_id=d.id\n",
    "join profession_diplome pd on pd.diplome_id=d.id\n",
    "join profession p on pd.profession_id=p.id\n",
    "join specialite_profession sp on sp.profession_id=p.id\n",
    "join pa_adresse_norm_date_source pands on pands.personne_activite_id=pa.id\n",
    "join adresse_norm an on pands.adresse_norm_id=an.id\n",
    "join date_source ds on ds.id=pands.date_source_id\n",
    "join specialite s on s.id=sp.specialite_id\n",
    "where sp.specialite_id={specialite}\n",
    "and pa.code_mode_exercice='L'\n",
    "and ds.annee={year}\n",
    "\"\"\"\n",
    "    print(f\"Quering PA-Outer-PS for year {year} and specialite {specialite}\")\n",
    "    return pd.read_sql(sql, config.connection_string).dropna()"
   ]
  },
  {
   "cell_type": "code",
   "execution_count": 6,
   "id": "9fb0a4c9-7df3-4583-b1cc-3f70aa1c7d14",
   "metadata": {},
   "outputs": [],
   "source": [
    "def get_pa_ps(year, specialite):\n",
    "    sql=f\"\"\"\n",
    "select sp.specialite_id, ds.annee as year, pa.id as p_id, coalesce(an.lon,an2.lon) as lon, coalesce(an.lat,an2.lat) as lat from personne_activite pa\n",
    "join personne_activite_diplome pad on pad.personne_activite_id=pa.id\n",
    "join diplome d on pad.diplome_id=d.id\n",
    "join profession_diplome pd on pd.diplome_id=d.id\n",
    "join profession p on pd.profession_id=p.id\n",
    "join specialite_profession sp on sp.profession_id=p.id\n",
    "join pa_adresse_norm_date_source pands on pands.personne_activite_id=pa.id\n",
    "join adresse_norm an on pands.adresse_norm_id=an.id\n",
    "join date_source ds on ds.id=pands.date_source_id\n",
    "left outer join ps on ps.key=pa.inpp\n",
    "join tarif t on t.ps_id=ps.id\n",
    "join tarif_date_source tds on tds.tarif_id=t.id and tds.date_source_id=ds.id\n",
    "join cabinet c on t.cabinet_id=c.id\n",
    "join adresse_raw ar on c.adresse_raw_id=ar.id\n",
    "join adresse_norm an2 on ar.adresse_norm_id=an2.id\n",
    "where sp.specialite_id={specialite}\n",
    "and pa.code_mode_exercice='L'\n",
    "and ds.annee={year}\n",
    "\"\"\"\n",
    "    print(f\"Quering PA-PS for year {year} and specialite {specialite}\")\n",
    "    return pd.read_sql(sql, config.connection_string).dropna()"
   ]
  },
  {
   "cell_type": "code",
   "execution_count": 7,
   "id": "844b47ab-546a-46c0-80c4-7ad373b89b94",
   "metadata": {},
   "outputs": [],
   "source": [
    "def get_rpps(year, specialite):\n",
    "    sql=f\"\"\"\n",
    "select personne.id p_id,an.lon,an.lat from personne\n",
    "join diplome_obtenu dio on dio.personne_id = personne.id\n",
    "join diplome d on d.id=dio.diplome_id\n",
    "join profession_diplome pd on pd.diplome_id=d.id\n",
    "join profession p on pd.profession_id=p.id\n",
    "join specialite_profession sp on sp.profession_id=p.id\n",
    "join coord c on c.personne_id=personne.id\n",
    "join adresse_norm an on c.adresse_norm_id=an.id\n",
    "where sp.specialite_id={specialite}\n",
    "and personne.date_maj >= '20{year}-01-01' and date_effet <= '20{year}-12-31'\n",
    "\"\"\"\n",
    "    print(f\"Quering RPPS for year {year} and specialite {specialite}\")\n",
    "    return pd.read_sql(sql, config.connection_string).dropna()"
   ]
  },
  {
   "cell_type": "code",
   "execution_count": 8,
   "id": "512716fc-df70-4279-85af-de99512d3f3c",
   "metadata": {},
   "outputs": [
    {
     "name": "stdout",
     "output_type": "stream",
     "text": [
      "Quering PA for year 21 and specialite 10\n"
     ]
    },
    {
     "data": {
      "text/html": [
       "<div>\n",
       "<style scoped>\n",
       "    .dataframe tbody tr th:only-of-type {\n",
       "        vertical-align: middle;\n",
       "    }\n",
       "\n",
       "    .dataframe tbody tr th {\n",
       "        vertical-align: top;\n",
       "    }\n",
       "\n",
       "    .dataframe thead th {\n",
       "        text-align: right;\n",
       "    }\n",
       "</style>\n",
       "<table border=\"1\" class=\"dataframe\">\n",
       "  <thead>\n",
       "    <tr style=\"text-align: right;\">\n",
       "      <th></th>\n",
       "      <th>specialite_id</th>\n",
       "      <th>year</th>\n",
       "      <th>p_id</th>\n",
       "      <th>lon</th>\n",
       "      <th>lat</th>\n",
       "    </tr>\n",
       "  </thead>\n",
       "  <tbody>\n",
       "    <tr>\n",
       "      <th>0</th>\n",
       "      <td>10</td>\n",
       "      <td>21</td>\n",
       "      <td>51080</td>\n",
       "      <td>3.016153</td>\n",
       "      <td>43.193501</td>\n",
       "    </tr>\n",
       "    <tr>\n",
       "      <th>1</th>\n",
       "      <td>10</td>\n",
       "      <td>21</td>\n",
       "      <td>51080</td>\n",
       "      <td>3.016153</td>\n",
       "      <td>43.193501</td>\n",
       "    </tr>\n",
       "    <tr>\n",
       "      <th>2</th>\n",
       "      <td>10</td>\n",
       "      <td>21</td>\n",
       "      <td>51080</td>\n",
       "      <td>3.016153</td>\n",
       "      <td>43.193501</td>\n",
       "    </tr>\n",
       "    <tr>\n",
       "      <th>6</th>\n",
       "      <td>10</td>\n",
       "      <td>21</td>\n",
       "      <td>51088</td>\n",
       "      <td>4.417738</td>\n",
       "      <td>44.011191</td>\n",
       "    </tr>\n",
       "    <tr>\n",
       "      <th>7</th>\n",
       "      <td>10</td>\n",
       "      <td>21</td>\n",
       "      <td>51088</td>\n",
       "      <td>4.318668</td>\n",
       "      <td>43.822473</td>\n",
       "    </tr>\n",
       "    <tr>\n",
       "      <th>...</th>\n",
       "      <td>...</td>\n",
       "      <td>...</td>\n",
       "      <td>...</td>\n",
       "      <td>...</td>\n",
       "      <td>...</td>\n",
       "    </tr>\n",
       "    <tr>\n",
       "      <th>186934</th>\n",
       "      <td>10</td>\n",
       "      <td>21</td>\n",
       "      <td>781240</td>\n",
       "      <td>-0.587016</td>\n",
       "      <td>44.829332</td>\n",
       "    </tr>\n",
       "    <tr>\n",
       "      <th>186935</th>\n",
       "      <td>10</td>\n",
       "      <td>21</td>\n",
       "      <td>781240</td>\n",
       "      <td>-0.587016</td>\n",
       "      <td>44.829332</td>\n",
       "    </tr>\n",
       "    <tr>\n",
       "      <th>186939</th>\n",
       "      <td>10</td>\n",
       "      <td>21</td>\n",
       "      <td>1539728</td>\n",
       "      <td>3.124607</td>\n",
       "      <td>50.311233</td>\n",
       "    </tr>\n",
       "    <tr>\n",
       "      <th>186940</th>\n",
       "      <td>10</td>\n",
       "      <td>21</td>\n",
       "      <td>1539728</td>\n",
       "      <td>3.124607</td>\n",
       "      <td>50.311233</td>\n",
       "    </tr>\n",
       "    <tr>\n",
       "      <th>186941</th>\n",
       "      <td>10</td>\n",
       "      <td>21</td>\n",
       "      <td>1539728</td>\n",
       "      <td>3.124607</td>\n",
       "      <td>50.311233</td>\n",
       "    </tr>\n",
       "  </tbody>\n",
       "</table>\n",
       "<p>153471 rows × 5 columns</p>\n",
       "</div>"
      ],
      "text/plain": [
       "        specialite_id  year     p_id       lon        lat\n",
       "0                  10    21    51080  3.016153  43.193501\n",
       "1                  10    21    51080  3.016153  43.193501\n",
       "2                  10    21    51080  3.016153  43.193501\n",
       "6                  10    21    51088  4.417738  44.011191\n",
       "7                  10    21    51088  4.318668  43.822473\n",
       "...               ...   ...      ...       ...        ...\n",
       "186934             10    21   781240 -0.587016  44.829332\n",
       "186935             10    21   781240 -0.587016  44.829332\n",
       "186939             10    21  1539728  3.124607  50.311233\n",
       "186940             10    21  1539728  3.124607  50.311233\n",
       "186941             10    21  1539728  3.124607  50.311233\n",
       "\n",
       "[153471 rows x 5 columns]"
      ]
     },
     "execution_count": 8,
     "metadata": {},
     "output_type": "execute_result"
    }
   ],
   "source": [
    "df2=get_pa(year,specialite)\n",
    "df2"
   ]
  },
  {
   "cell_type": "code",
   "execution_count": 9,
   "id": "ecf5065d-8a22-42d9-8a8d-7f455c826b00",
   "metadata": {},
   "outputs": [
    {
     "data": {
      "text/plain": [
       "50966"
      ]
     },
     "execution_count": 9,
     "metadata": {},
     "output_type": "execute_result"
    }
   ],
   "source": [
    "nb_unique = len(df2.groupby([\"p_id\", \"lon\", \"lat\"]))\n",
    "nb_unique"
   ]
  },
  {
   "cell_type": "code",
   "execution_count": 10,
   "id": "5080d65b-7f76-4bfb-9f67-a3d7d22f2e00",
   "metadata": {},
   "outputs": [
    {
     "data": {
      "text/plain": [
       "46845"
      ]
     },
     "execution_count": 10,
     "metadata": {},
     "output_type": "execute_result"
    }
   ],
   "source": [
    "nb = df2[\"p_id\"].nunique()\n",
    "nb"
   ]
  },
  {
   "cell_type": "code",
   "execution_count": 11,
   "id": "b8e7e851-4f89-4374-b629-bb320be666cc",
   "metadata": {},
   "outputs": [
    {
     "data": {
      "text/plain": [
       "{1: 6214,\n",
       " 2: 3859,\n",
       " 3: 2433,\n",
       " 4: 2021,\n",
       " 5: 4368,\n",
       " 6: 4295,\n",
       " 7: 2704,\n",
       " 8: 5518,\n",
       " 9: 36062,\n",
       " 10: 51488,\n",
       " 11: 4989,\n",
       " 12: 7777,\n",
       " 13: 842,\n",
       " 14: 115,\n",
       " 15: 1036,\n",
       " 16: 1971,\n",
       " 17: 1196,\n",
       " 18: 505,\n",
       " 19: 1449,\n",
       " 20: 704}"
      ]
     },
     "execution_count": 11,
     "metadata": {},
     "output_type": "execute_result"
    }
   ],
   "source": [
    "ameli={1:6214,2:3859,3:2433,4:2021,5:4368,6:4295,7:2704,8:5518,9:36062,10:51488,11:4989,12:7777,13:842,14:115,15:1036,16:1971,17:1196,18:505,19:1449,20:704}\n",
    "ameli"
   ]
  },
  {
   "cell_type": "code",
   "execution_count": 12,
   "id": "f2990571-a274-4534-aa21-3bc4d3a4afb4",
   "metadata": {},
   "outputs": [
    {
     "name": "stdout",
     "output_type": "stream",
     "text": [
      "Quering PS for year 21 and specialite 10\n",
      "Quering PA for year 21 and specialite 10\n",
      "Quering PA-PS for year 21 and specialite 10\n",
      "Quering PA-Outer-PS for year 21 and specialite 10\n",
      "Quering RPPS for year 21 and specialite 10\n"
     ]
    },
    {
     "data": {
      "text/html": [
       "<div>\n",
       "<style scoped>\n",
       "    .dataframe tbody tr th:only-of-type {\n",
       "        vertical-align: middle;\n",
       "    }\n",
       "\n",
       "    .dataframe tbody tr th {\n",
       "        vertical-align: top;\n",
       "    }\n",
       "\n",
       "    .dataframe thead th {\n",
       "        text-align: right;\n",
       "    }\n",
       "</style>\n",
       "<table border=\"1\" class=\"dataframe\">\n",
       "  <thead>\n",
       "    <tr style=\"text-align: right;\">\n",
       "      <th></th>\n",
       "      <th>specialite</th>\n",
       "      <th>label</th>\n",
       "      <th>year</th>\n",
       "      <th>ameli</th>\n",
       "      <th>nb_ps_cabinet</th>\n",
       "      <th>nb_ps</th>\n",
       "      <th>delta_ps</th>\n",
       "      <th>nb_pa_cabinet</th>\n",
       "      <th>nb_pa</th>\n",
       "      <th>delta_pa</th>\n",
       "      <th>nb_pa_ps_cabinet</th>\n",
       "      <th>nb_pa_ps</th>\n",
       "      <th>delta_pa_ps</th>\n",
       "      <th>nb_pa_outer_ps_cabinet</th>\n",
       "      <th>nb_pa_outer_ps</th>\n",
       "      <th>delta_pa_outer_ps</th>\n",
       "      <th>nb_rpps_cabinet</th>\n",
       "      <th>np_rpps</th>\n",
       "      <th>delta_rpps</th>\n",
       "    </tr>\n",
       "  </thead>\n",
       "  <tbody>\n",
       "    <tr>\n",
       "      <th>0</th>\n",
       "      <td>10</td>\n",
       "      <td>Généraliste</td>\n",
       "      <td>21</td>\n",
       "      <td>NaN</td>\n",
       "      <td>58199</td>\n",
       "      <td>54811</td>\n",
       "      <td>NaN</td>\n",
       "      <td>50966</td>\n",
       "      <td>46845</td>\n",
       "      <td>NaN</td>\n",
       "      <td>51498</td>\n",
       "      <td>46621</td>\n",
       "      <td>NaN</td>\n",
       "      <td>58618</td>\n",
       "      <td>52392</td>\n",
       "      <td>NaN</td>\n",
       "      <td>13667</td>\n",
       "      <td>13667</td>\n",
       "      <td>NaN</td>\n",
       "    </tr>\n",
       "  </tbody>\n",
       "</table>\n",
       "</div>"
      ],
      "text/plain": [
       "  specialite        label year ameli nb_ps_cabinet  nb_ps delta_ps   \n",
       "0         10  Généraliste   21   NaN         58199  54811      NaN  \\\n",
       "\n",
       "  nb_pa_cabinet  nb_pa delta_pa nb_pa_ps_cabinet nb_pa_ps delta_pa_ps   \n",
       "0         50966  46845      NaN            51498    46621         NaN  \\\n",
       "\n",
       "  nb_pa_outer_ps_cabinet nb_pa_outer_ps delta_pa_outer_ps nb_rpps_cabinet   \n",
       "0                  58618          52392               NaN           13667  \\\n",
       "\n",
       "  np_rpps delta_rpps  \n",
       "0   13667        NaN  "
      ]
     },
     "execution_count": 12,
     "metadata": {},
     "output_type": "execute_result"
    }
   ],
   "source": [
    "df = pd.DataFrame(columns=[\"specialite\",\"label\",\"year\",\"ameli\",\"nb_ps_cabinet\",\"nb_ps\",\"delta_ps\",\"nb_pa_cabinet\",\"nb_pa\",\"delta_pa\",\"nb_pa_ps_cabinet\",\"nb_pa_ps\",\"delta_pa_ps\",\"nb_pa_outer_ps_cabinet\",\"nb_pa_outer_ps\",\"delta_pa_outer_ps\",\"nb_rpps_cabinet\",\"np_rpps\",\"delta_rpps\"])\n",
    "for specialite in range(10,11):\n",
    "    for yy in range(21,22): #datetime.date.today().year+1-2000):\n",
    "        ps_df=get_ps(yy,specialite)\n",
    "        label=ps_df[\"label\"][0] if len(ps_df[\"label\"])>0 else \"\"\n",
    "        nb_unique_ps=len(ps_df.groupby([\"p_id\", \"lon\", \"lat\"]))\n",
    "        nb_ps=ps_df[\"p_id\"].nunique()\n",
    "        pa_df=get_pa(yy,specialite)\n",
    "        nb_unique_pa=len(pa_df.groupby([\"p_id\", \"lon\", \"lat\"]))\n",
    "        nb_pa=pa_df[\"p_id\"].nunique()\n",
    "        pa_ps_df=get_pa_ps(yy,specialite)\n",
    "        nb_unique_pa_ps=len(pa_ps_df.groupby([\"p_id\", \"lon\", \"lat\"]))\n",
    "        nb_pa_ps=pa_ps_df[\"p_id\"].nunique()\n",
    "        pa_ops_df=get_pa_outer_ps(yy,specialite)\n",
    "        nb_unique_pa_ops=len(pa_ops_df.groupby([\"p_id\", \"lon\", \"lat\"]))\n",
    "        nb_pa_ops=pa_ops_df[\"p_id\"].nunique()\n",
    "        rpps_df=get_rpps(yy,specialite)\n",
    "        nb_unique_rpps=len(rpps_df.groupby([\"p_id\", \"lon\", \"lat\"]))\n",
    "        nb_rpps=rpps_df[\"p_id\"].nunique()\n",
    "        a=np.nan\n",
    "        if yy==23 and specialite in ameli:\n",
    "            a=ameli[specialite]\n",
    "        df = pd.concat([pd.DataFrame([[specialite,label,yy,a,nb_unique_ps,nb_ps,(nb_ps-a)/a,nb_unique_pa,nb_pa,(nb_pa-a)/a,nb_unique_pa_ps,nb_pa_ps,(nb_pa_ps-a)/a,nb_unique_pa_ops,nb_pa_ops,(nb_pa_ops-a)/a,nb_unique_rpps,nb_rpps,(nb_rpps-a)/a]], columns=df.columns), df], ignore_index=True)\n",
    "df=df.sort_values(by=['specialite',\"year\"])\n",
    "df"
   ]
  },
  {
   "cell_type": "code",
   "execution_count": 13,
   "id": "42d87cb1-7346-413c-a7e2-c603da7ecbb7",
   "metadata": {},
   "outputs": [
    {
     "data": {
      "text/plain": [
       "1"
      ]
     },
     "execution_count": 13,
     "metadata": {},
     "output_type": "execute_result"
    }
   ],
   "source": [
    "df.to_excel(\"ps_stats.xlsx\", index=False)\n",
    "df.to_sql(\"ps_stats\", config.connection_string, schema=\"apl\", if_exists=\"replace\", index=False)"
   ]
  },
  {
   "cell_type": "code",
   "execution_count": null,
   "id": "895480ce-70df-4ae5-b5a5-d45c7aa65854",
   "metadata": {},
   "outputs": [],
   "source": []
  }
 ],
 "metadata": {
  "kernelspec": {
   "display_name": "Python 3 (ipykernel)",
   "language": "python",
   "name": "python3"
  },
  "language_info": {
   "codemirror_mode": {
    "name": "ipython",
    "version": 3
   },
   "file_extension": ".py",
   "mimetype": "text/x-python",
   "name": "python",
   "nbconvert_exporter": "python",
   "pygments_lexer": "ipython3",
   "version": "3.12.0"
  }
 },
 "nbformat": 4,
 "nbformat_minor": 5
}
