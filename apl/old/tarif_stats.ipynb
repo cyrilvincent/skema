{
 "cells": [
  {
   "cell_type": "code",
   "execution_count": 1,
   "id": "d79a3874-c066-4790-a716-4011e72e02b0",
   "metadata": {},
   "outputs": [
    {
     "name": "stdout",
     "output_type": "stream",
     "text": [
      "3.2.0.Dev\n",
      "postgresql://postgres:sa@localhost/icip\n"
     ]
    }
   ],
   "source": [
    "import pandas as pd\n",
    "import numpy as np\n",
    "import config\n",
    "print(config.version)\n",
    "print(config.connection_string)\n",
    "pd.set_option('display.max_columns', None)"
   ]
  },
  {
   "cell_type": "code",
   "execution_count": null,
   "id": "922be3e1-5842-4912-b819-2baad0781e53",
   "metadata": {},
   "outputs": [],
   "source": [
    "sql = \"\"\"\n",
    "select ps.id from ps\n",
    "join tarif t on t.ps_id = ps.id\n",
    "join tarif_date_source tds on tds.tarif_id=t.id \n",
    "join cabinet c on t.cabinet_id = c.id\n",
    "join adresse_raw ar on c.adresse_raw_id = ar.id\n",
    "join adresse_norm an on ar.adresse_norm_id = an.id\n",
    "join specialite_profession sp on sp.profession_id=t.profession_id\n",
    "where sp.specialite_id=10\n",
    "and tds.date_source_id >= 2100 and  tds.date_source_id < 2200\n",
    "group by ps.id\n",
    "\"\"\"\n",
    "# 54851 ps"
   ]
  },
  {
   "cell_type": "code",
   "execution_count": 2,
   "id": "ea621209-15a0-446b-8242-14025aedba56",
   "metadata": {},
   "outputs": [
    {
     "data": {
      "text/html": [
       "<div>\n",
       "<style scoped>\n",
       "    .dataframe tbody tr th:only-of-type {\n",
       "        vertical-align: middle;\n",
       "    }\n",
       "\n",
       "    .dataframe tbody tr th {\n",
       "        vertical-align: top;\n",
       "    }\n",
       "\n",
       "    .dataframe thead th {\n",
       "        text-align: right;\n",
       "    }\n",
       "</style>\n",
       "<table border=\"1\" class=\"dataframe\">\n",
       "  <thead>\n",
       "    <tr style=\"text-align: right;\">\n",
       "      <th></th>\n",
       "      <th>id</th>\n",
       "      <th>lon</th>\n",
       "      <th>lat</th>\n",
       "      <th>count</th>\n",
       "    </tr>\n",
       "  </thead>\n",
       "  <tbody>\n",
       "    <tr>\n",
       "      <th>0</th>\n",
       "      <td>14434</td>\n",
       "      <td>5.334156</td>\n",
       "      <td>46.049236</td>\n",
       "      <td>72</td>\n",
       "    </tr>\n",
       "    <tr>\n",
       "      <th>1</th>\n",
       "      <td>14436</td>\n",
       "      <td>5.249939</td>\n",
       "      <td>46.216705</td>\n",
       "      <td>22</td>\n",
       "    </tr>\n",
       "    <tr>\n",
       "      <th>2</th>\n",
       "      <td>14437</td>\n",
       "      <td>4.884658</td>\n",
       "      <td>46.260609</td>\n",
       "      <td>44</td>\n",
       "    </tr>\n",
       "    <tr>\n",
       "      <th>3</th>\n",
       "      <td>14438</td>\n",
       "      <td>5.827150</td>\n",
       "      <td>46.108782</td>\n",
       "      <td>66</td>\n",
       "    </tr>\n",
       "    <tr>\n",
       "      <th>4</th>\n",
       "      <td>14441</td>\n",
       "      <td>5.127257</td>\n",
       "      <td>46.097351</td>\n",
       "      <td>44</td>\n",
       "    </tr>\n",
       "    <tr>\n",
       "      <th>...</th>\n",
       "      <td>...</td>\n",
       "      <td>...</td>\n",
       "      <td>...</td>\n",
       "      <td>...</td>\n",
       "    </tr>\n",
       "    <tr>\n",
       "      <th>58236</th>\n",
       "      <td>156278</td>\n",
       "      <td>0.484606</td>\n",
       "      <td>43.080071</td>\n",
       "      <td>6</td>\n",
       "    </tr>\n",
       "    <tr>\n",
       "      <th>58237</th>\n",
       "      <td>156279</td>\n",
       "      <td>6.798160</td>\n",
       "      <td>43.434313</td>\n",
       "      <td>2</td>\n",
       "    </tr>\n",
       "    <tr>\n",
       "      <th>58238</th>\n",
       "      <td>156282</td>\n",
       "      <td>4.896624</td>\n",
       "      <td>45.274477</td>\n",
       "      <td>12</td>\n",
       "    </tr>\n",
       "    <tr>\n",
       "      <th>58239</th>\n",
       "      <td>156283</td>\n",
       "      <td>-1.192521</td>\n",
       "      <td>48.167752</td>\n",
       "      <td>2</td>\n",
       "    </tr>\n",
       "    <tr>\n",
       "      <th>58240</th>\n",
       "      <td>156284</td>\n",
       "      <td>5.400188</td>\n",
       "      <td>43.259766</td>\n",
       "      <td>2</td>\n",
       "    </tr>\n",
       "  </tbody>\n",
       "</table>\n",
       "<p>58241 rows × 4 columns</p>\n",
       "</div>"
      ],
      "text/plain": [
       "           id       lon        lat  count\n",
       "0       14434  5.334156  46.049236     72\n",
       "1       14436  5.249939  46.216705     22\n",
       "2       14437  4.884658  46.260609     44\n",
       "3       14438  5.827150  46.108782     66\n",
       "4       14441  5.127257  46.097351     44\n",
       "...       ...       ...        ...    ...\n",
       "58236  156278  0.484606  43.080071      6\n",
       "58237  156279  6.798160  43.434313      2\n",
       "58238  156282  4.896624  45.274477     12\n",
       "58239  156283 -1.192521  48.167752      2\n",
       "58240  156284  5.400188  43.259766      2\n",
       "\n",
       "[58241 rows x 4 columns]"
      ]
     },
     "execution_count": 2,
     "metadata": {},
     "output_type": "execute_result"
    }
   ],
   "source": [
    "sql = f\"\"\"\n",
    "select ps.id, an.lon, an.lat, count(t.id) from ps\n",
    "join tarif t on t.ps_id = ps.id\n",
    "join tarif_date_source tds on tds.tarif_id=t.id \n",
    "join cabinet c on t.cabinet_id = c.id\n",
    "join adresse_raw ar on c.adresse_raw_id = ar.id\n",
    "join adresse_norm an on ar.adresse_norm_id = an.id\n",
    "join specialite_profession sp on sp.profession_id=t.profession_id\n",
    "where sp.specialite_id=10\n",
    "and tds.date_source_id >= 2100 and  tds.date_source_id < 2200\n",
    "group by ps.id, an.lon, an.lat\n",
    "\"\"\"\n",
    "stats = pd.read_sql(sql, config.connection_string)\n",
    "stats"
   ]
  },
  {
   "cell_type": "code",
   "execution_count": 3,
   "id": "71edead5-76ca-470f-8e6c-bd4a951c48d8",
   "metadata": {},
   "outputs": [
    {
     "data": {
      "text/plain": [
       "count    58241.000000\n",
       "mean        48.921911\n",
       "std         41.797693\n",
       "min          1.000000\n",
       "25%         22.000000\n",
       "50%         40.000000\n",
       "75%         64.000000\n",
       "max        722.000000\n",
       "Name: count, dtype: float64"
      ]
     },
     "execution_count": 3,
     "metadata": {},
     "output_type": "execute_result"
    }
   ],
   "source": [
    "stats[\"count\"].describe()"
   ]
  },
  {
   "cell_type": "code",
   "execution_count": null,
   "id": "e1cff4be-54da-4cc2-b4b1-55b1d2d7606f",
   "metadata": {},
   "outputs": [],
   "source": []
  }
 ],
 "metadata": {
  "kernelspec": {
   "display_name": "Python 3 (ipykernel)",
   "language": "python",
   "name": "python3"
  },
  "language_info": {
   "codemirror_mode": {
    "name": "ipython",
    "version": 3
   },
   "file_extension": ".py",
   "mimetype": "text/x-python",
   "name": "python",
   "nbconvert_exporter": "python",
   "pygments_lexer": "ipython3",
   "version": "3.12.0"
  }
 },
 "nbformat": 4,
 "nbformat_minor": 5
}
