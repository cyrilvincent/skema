{
 "cells": [
  {
   "cell_type": "code",
   "execution_count": 1,
   "id": "b852e8b9-8db9-4116-a350-1c44f2af627c",
   "metadata": {},
   "outputs": [
    {
     "name": "stdout",
     "output_type": "stream",
     "text": [
      "3.2.0.Dev\n",
      "postgresql://postgres:sa@localhost/icip\n",
      "6.3.1 8.1.7 2.0.0 1.26.4\n"
     ]
    }
   ],
   "source": [
    "import pandas as pd\n",
    "import numpy as np\n",
    "import config\n",
    "import datetime\n",
    "from sqlalchemy import text\n",
    "import plotly\n",
    "import plotly.express as px\n",
    "import ipywidgets\n",
    "from urllib.request import urlopen\n",
    "import json\n",
    "import plotly.graph_objects as go\n",
    "import geopandas as gpd\n",
    "import warnings\n",
    "import pyproj\n",
    "import plotly.io as pio\n",
    "import pickle\n",
    "print(config.version)\n",
    "print(config.connection_string)\n",
    "print(plotly.__version__, ipywidgets.__version__, pd.__version__, np.__version__)\n",
    "pd.set_option('display.max_columns', None)\n",
    "warnings.filterwarnings('ignore', category=UserWarning) "
   ]
  },
  {
   "cell_type": "code",
   "execution_count": 2,
   "id": "a267ef58-a218-447b-808a-fa19442bb4b1",
   "metadata": {},
   "outputs": [],
   "source": [
    "# gdf = gpd.read_file(\"../CA/contours-iris.gpkg\")\n",
    "# gdf = gdf.to_crs(epsg=4326)\n",
    "# gdf[\"fid\"] = gdf.index\n",
    "# gdf[\"lon\"] = gdf.geometry.centroid.x\n",
    "# gdf[\"lat\"] = gdf.geometry.centroid.y\n",
    "# gdf = gdf.sort_values(by=\"code_iris\")\n",
    "# with open(\"gdf.pickle\", \"wb\") as f:\n",
    "#     pickle.dump(gdf, f)\n",
    "with open(\"gdf.pickle\", \"rb\") as f:\n",
    "    gdf_france = pickle.load(f)\n",
    "    gdf_france['geometry'] = gdf_france[\"geometry\"].simplify(tolerance=0.001)\n",
    "    geojson=gdf_france.__geo_interface__\n"
   ]
  },
  {
   "cell_type": "code",
   "execution_count": 3,
   "id": "80364a5c-ba58-4f74-abf7-5549180c7596",
   "metadata": {},
   "outputs": [
    {
     "data": {
      "text/html": [
       "<div>\n",
       "<style scoped>\n",
       "    .dataframe tbody tr th:only-of-type {\n",
       "        vertical-align: middle;\n",
       "    }\n",
       "\n",
       "    .dataframe tbody tr th {\n",
       "        vertical-align: top;\n",
       "    }\n",
       "\n",
       "    .dataframe thead th {\n",
       "        text-align: right;\n",
       "    }\n",
       "</style>\n",
       "<table border=\"1\" class=\"dataframe\">\n",
       "  <thead>\n",
       "    <tr style=\"text-align: right;\">\n",
       "      <th>id</th>\n",
       "      <th>1</th>\n",
       "      <th>2</th>\n",
       "      <th>3</th>\n",
       "      <th>4</th>\n",
       "      <th>5</th>\n",
       "      <th>6</th>\n",
       "      <th>7</th>\n",
       "      <th>8</th>\n",
       "      <th>9</th>\n",
       "      <th>10</th>\n",
       "      <th>11</th>\n",
       "      <th>12</th>\n",
       "      <th>13</th>\n",
       "      <th>14</th>\n",
       "      <th>15</th>\n",
       "      <th>16</th>\n",
       "      <th>17</th>\n",
       "      <th>18</th>\n",
       "      <th>19</th>\n",
       "      <th>20</th>\n",
       "    </tr>\n",
       "  </thead>\n",
       "  <tbody>\n",
       "    <tr>\n",
       "      <th>label</th>\n",
       "      <td>Psychiatre</td>\n",
       "      <td>Anesthésiste</td>\n",
       "      <td>Dermatologue</td>\n",
       "      <td>Gastro-entérologue</td>\n",
       "      <td>Gynécologue</td>\n",
       "      <td>Opthtalmogue</td>\n",
       "      <td>Pédiatre</td>\n",
       "      <td>Radiologue</td>\n",
       "      <td>Dentiste</td>\n",
       "      <td>Généraliste</td>\n",
       "      <td>Cardiologue</td>\n",
       "      <td>Chirugien</td>\n",
       "      <td>Endocrinologue</td>\n",
       "      <td>Gériatre</td>\n",
       "      <td>Neurologue</td>\n",
       "      <td>Oto-rhino-laryngologiste</td>\n",
       "      <td>Pneumologue</td>\n",
       "      <td>Radiothérapeuthe</td>\n",
       "      <td>Rhumatologue</td>\n",
       "      <td>Stomatologue</td>\n",
       "    </tr>\n",
       "  </tbody>\n",
       "</table>\n",
       "</div>"
      ],
      "text/plain": [
       "id             1             2             3                   4    \n",
       "label  Psychiatre  Anesthésiste  Dermatologue  Gastro-entérologue  \\\n",
       "\n",
       "id              5             6         7           8         9            10   \n",
       "label  Gynécologue  Opthtalmogue  Pédiatre  Radiologue  Dentiste  Généraliste  \\\n",
       "\n",
       "id              11         12              13        14          15   \n",
       "label  Cardiologue  Chirugien  Endocrinologue  Gériatre  Neurologue  \\\n",
       "\n",
       "id                           16           17                18            19   \n",
       "label  Oto-rhino-laryngologiste  Pneumologue  Radiothérapeuthe  Rhumatologue  \\\n",
       "\n",
       "id               20  \n",
       "label  Stomatologue  "
      ]
     },
     "execution_count": 3,
     "metadata": {},
     "output_type": "execute_result"
    }
   ],
   "source": [
    "spe_df = pd.read_sql(\"select id, label_long label from specialite\", config.connection_string, index_col=\"id\")\n",
    "spe_df.T"
   ]
  },
  {
   "cell_type": "code",
   "execution_count": 12,
   "id": "c6023132-ee51-4a66-ad47-7b7b68f8a728",
   "metadata": {},
   "outputs": [],
   "source": [
    "specialite = 10\n",
    "year = 20 # 20 to 25\n",
    "source=\"PA\" # PA or PS\n",
    "time=30 # 30 or 45\n",
    "time_type=\"HC\" # HC or HP\n"
   ]
  },
  {
   "cell_type": "code",
   "execution_count": 13,
   "id": "0d9a57c2-a31c-459a-8aa2-d83aa3bfda6f",
   "metadata": {},
   "outputs": [
    {
     "data": {
      "text/html": [
       "<div>\n",
       "<style scoped>\n",
       "    .dataframe tbody tr th:only-of-type {\n",
       "        vertical-align: middle;\n",
       "    }\n",
       "\n",
       "    .dataframe tbody tr th {\n",
       "        vertical-align: top;\n",
       "    }\n",
       "\n",
       "    .dataframe thead th {\n",
       "        text-align: right;\n",
       "    }\n",
       "</style>\n",
       "<table border=\"1\" class=\"dataframe\">\n",
       "  <thead>\n",
       "    <tr style=\"text-align: right;\">\n",
       "      <th></th>\n",
       "      <th>year</th>\n",
       "      <th>specialite_id</th>\n",
       "      <th>source</th>\n",
       "      <th>time</th>\n",
       "      <th>time_type</th>\n",
       "      <th>exp</th>\n",
       "      <th>mean</th>\n",
       "      <th>std</th>\n",
       "      <th>q10</th>\n",
       "      <th>q25</th>\n",
       "      <th>q50</th>\n",
       "      <th>q75</th>\n",
       "      <th>q90</th>\n",
       "      <th>min</th>\n",
       "      <th>max</th>\n",
       "      <th>date</th>\n",
       "      <th>key</th>\n",
       "    </tr>\n",
       "  </thead>\n",
       "  <tbody>\n",
       "    <tr>\n",
       "      <th>0</th>\n",
       "      <td>20</td>\n",
       "      <td>10</td>\n",
       "      <td>PA</td>\n",
       "      <td>30</td>\n",
       "      <td>HC</td>\n",
       "      <td>-0.12</td>\n",
       "      <td>69.297407</td>\n",
       "      <td>37.799369</td>\n",
       "      <td>31.187375</td>\n",
       "      <td>42.506375</td>\n",
       "      <td>59.518193</td>\n",
       "      <td>88.822859</td>\n",
       "      <td>123.141263</td>\n",
       "      <td>0.0</td>\n",
       "      <td>729.717071</td>\n",
       "      <td>2025-10-29 22:05:59.576749</td>\n",
       "      <td>587733453917</td>\n",
       "    </tr>\n",
       "  </tbody>\n",
       "</table>\n",
       "</div>"
      ],
      "text/plain": [
       "   year  specialite_id source  time time_type   exp       mean        std   \n",
       "0    20             10     PA    30        HC -0.12  69.297407  37.799369  \\\n",
       "\n",
       "         q10        q25        q50        q75         q90  min         max   \n",
       "0  31.187375  42.506375  59.518193  88.822859  123.141263  0.0  729.717071  \\\n",
       "\n",
       "                        date           key  \n",
       "0 2025-10-29 22:05:59.576749  587733453917  "
      ]
     },
     "execution_count": 13,
     "metadata": {},
     "output_type": "execute_result"
    }
   ],
   "source": [
    "sql = f\"\"\"\n",
    "select * from apl.apl_study s\n",
    "where s.specialite_id={specialite}\n",
    "and s.year={year}\n",
    "and s.source='{source}'\n",
    "and s.time={time}\n",
    "and s.time_type='{time_type}'\n",
    "order by date desc\n",
    "limit 1\n",
    "\"\"\"\n",
    "study_df = pd.read_sql(sql, config.connection_string)\n",
    "study_df"
   ]
  },
  {
   "cell_type": "code",
   "execution_count": 14,
   "id": "0c3f7018-a6c0-47e9-a42e-af9af1ce8354",
   "metadata": {},
   "outputs": [
    {
     "name": "stdout",
     "output_type": "stream",
     "text": [
      "Study key: 587733453917\n"
     ]
    },
    {
     "data": {
      "text/plain": [
       "48569"
      ]
     },
     "execution_count": 14,
     "metadata": {},
     "output_type": "execute_result"
    }
   ],
   "source": [
    "key = study_df[\"key\"].iloc[0]\n",
    "print(f\"Study key: {key}\")\n",
    "sql=f\"\"\"\n",
    "select * from apl.apl a\n",
    "where a.study_key = {key}\n",
    "\"\"\"\n",
    "apl = pd.read_sql(sql, config.connection_string)\n",
    "len(apl)"
   ]
  },
  {
   "cell_type": "code",
   "execution_count": 15,
   "id": "62fbadee-589a-4783-993e-46876f7d8f24",
   "metadata": {},
   "outputs": [
    {
     "data": {
      "text/plain": [
       "1.0032632827114933"
      ]
     },
     "execution_count": 15,
     "metadata": {},
     "output_type": "execute_result"
    }
   ],
   "source": [
    "prop = (apl[\"pop_gp\"]/apl[\"pop\"]).replace(np.nan, 0)\n",
    "np.mean(prop)"
   ]
  },
  {
   "cell_type": "code",
   "execution_count": 16,
   "id": "150ddd7d-3f56-4442-a9b1-fc6c99b59d6f",
   "metadata": {},
   "outputs": [],
   "source": [
    "gdf=gdf_france\n",
    "apl.loc[apl[\"iris_string\"]==\"180331201\",\"apl\"]=apl[apl[\"iris_string\"]==\"181740000\"][\"apl\"].iloc[0]\n",
    "apl.loc[apl[\"iris_string\"]==\"140110000\",\"iris_string\"]=\"145810000\""
   ]
  },
  {
   "cell_type": "code",
   "execution_count": 17,
   "id": "61ab5605-44ed-4a68-ad71-6605bf5a069d",
   "metadata": {},
   "outputs": [
    {
     "data": {
      "text/plain": [
       "48569"
      ]
     },
     "execution_count": 17,
     "metadata": {},
     "output_type": "execute_result"
    }
   ],
   "source": [
    "apl[\"code_iris\"]=apl[\"iris_string\"]\n",
    "gdf = gdf.merge(apl, on=\"code_iris\", how=\"left\", suffixes=('', '_dest')).copy()\n",
    "gdf[\"pretty\"]=gdf[\"apl\"].fillna(0).apply(lambda x: round(x, 0)).astype(np.int32)\n",
    "qmax = study_df[\"max\"].iloc[0] if study_df[\"max\"].iloc[0] != 0 else 1.0\n",
    "q90 = study_df[\"q90\"].iloc[0] if study_df[\"q90\"].iloc[0] != 0 else 0.0\n",
    "q75 = study_df[\"q75\"].iloc[0] if study_df[\"q75\"].iloc[0] != 0 else 0.0\n",
    "q50 = study_df[\"q50\"].iloc[0] if study_df[\"q50\"].iloc[0] != 0 else q75\n",
    "q25 = study_df[\"q25\"].iloc[0] if study_df[\"q25\"].iloc[0] != 0 else q50\n",
    "q10 = study_df[\"q10\"].iloc[0] if study_df[\"q10\"].iloc[0] != 0 else q25\n",
    "\n",
    "len(gdf)"
   ]
  },
  {
   "cell_type": "code",
   "execution_count": 18,
   "id": "89a01d3d-86ca-4b9c-b2d6-0980ca52fec1",
   "metadata": {},
   "outputs": [
    {
     "data": {
      "text/plain": [
       "'End'"
      ]
     },
     "execution_count": 18,
     "metadata": {},
     "output_type": "execute_result"
    }
   ],
   "source": [
    "fig = go.Figure()\n",
    "fig.add_trace(go.Choropleth(\n",
    "    geojson=geojson,\n",
    "    locations=gdf[\"fid\"],\n",
    "    z=gdf[\"apl\"],\n",
    "    zmin=0,\n",
    "    zmax=qmax,\n",
    "    hoverinfo=\"skip\",\n",
    "    showscale=False,\n",
    "    # colorscale=\"Portland\",\n",
    "    colorbar={\"title\": \"APL\",\n",
    "              # \"tickvals\": [0, np.log10(5), 1, np.log10(50), 2, np.log10(200), 3],\n",
    "              # \"ticktext\": ['0', '5', '10', '50', '100', '200', '1000'],\n",
    "             },\n",
    "    colorscale=[[0.0, \"rgb(64,64,127)\"],\n",
    "                [q10/qmax, \"rgb(112,112,127)\"],\n",
    "                [q25/qmax, \"rgb(159,159,127)\"],\n",
    "                [q50/qmax, \"rgb(255,255,127)\"],\n",
    "                [q75/qmax, \"rgb(209,127,79)\"],\n",
    "                [q90/qmax, \"rgb(187,64,55)\"],\n",
    "                [0.99, \"rgb(165,0,32)\"],\n",
    "                [1.0, \"rgb(127,0,0)\"]],\n",
    "    marker = dict(line=dict(width=0))\n",
    "))\n",
    "center_lat = gdf.geometry.centroid.y.mean()\n",
    "center_lon = gdf.geometry.centroid.x.mean()\n",
    "fig.update_layout(\n",
    "    geo=dict(\n",
    "        projection_type=\"mercator\",\n",
    "        center={\"lat\": center_lat, \"lon\": center_lon},\n",
    "        fitbounds=\"locations\",\n",
    "        showland=False,\n",
    "        showcountries=False,\n",
    "        showocean=False,\n",
    "        showlakes=False,\n",
    "        showrivers=False,\n",
    "        visible=False\n",
    "    ),\n",
    "    title=f\"APL France\",\n",
    "    height=1000,\n",
    "    width=1200,\n",
    "    margin=dict(l=0, r=0, t=50, b=0),\n",
    ")\n",
    "\"End\"\n",
    "# fig.show()"
   ]
  },
  {
   "cell_type": "code",
   "execution_count": 19,
   "id": "d48c8d2b-e66c-4796-b901-da2a76e9ad03",
   "metadata": {},
   "outputs": [],
   "source": [
    "pio.write_html(fig, file=f\"apl_france_{specialite}_{year}.html\", auto_open=True, include_plotlyjs=\"cdn\", full_html=True, config={\"responsive\": True})"
   ]
  },
  {
   "cell_type": "code",
   "execution_count": null,
   "id": "2d71992c-aa9f-4376-8f30-c184955c3915",
   "metadata": {},
   "outputs": [],
   "source": []
  }
 ],
 "metadata": {
  "kernelspec": {
   "display_name": "Python 3 (ipykernel)",
   "language": "python",
   "name": "python3"
  },
  "language_info": {
   "codemirror_mode": {
    "name": "ipython",
    "version": 3
   },
   "file_extension": ".py",
   "mimetype": "text/x-python",
   "name": "python",
   "nbconvert_exporter": "python",
   "pygments_lexer": "ipython3",
   "version": "3.12.7"
  }
 },
 "nbformat": 4,
 "nbformat_minor": 5
}
